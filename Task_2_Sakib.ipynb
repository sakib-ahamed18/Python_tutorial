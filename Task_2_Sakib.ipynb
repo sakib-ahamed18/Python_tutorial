{
 "cells": [
  {
   "cell_type": "code",
   "execution_count": 2,
   "id": "4da088bb",
   "metadata": {},
   "outputs": [
    {
     "name": "stdout",
     "output_type": "stream",
     "text": [
      "Enter 1st number:12\n",
      "Enter the 2nd number:34\n",
      "1234\n"
     ]
    }
   ],
   "source": [
    "x=input(\"Enter 1st number:\")\n",
    "y=input(\"Enter the 2nd number:\")\n",
    "z=x+y\n",
    "print(z)"
   ]
  },
  {
   "cell_type": "code",
   "execution_count": 3,
   "id": "034369c3",
   "metadata": {},
   "outputs": [
    {
     "name": "stdout",
     "output_type": "stream",
     "text": [
      "Enter 1st number:12\n",
      "Enter the 2nd number:12\n",
      "24\n"
     ]
    }
   ],
   "source": [
    "x=int(input(\"Enter 1st number:\"))\n",
    "y=int(input(\"Enter the 2nd number:\"))\n",
    "z=x+y\n",
    "print(z)"
   ]
  },
  {
   "cell_type": "code",
   "execution_count": 4,
   "id": "458a6a88",
   "metadata": {},
   "outputs": [
    {
     "name": "stdout",
     "output_type": "stream",
     "text": [
      "Enter the string:qwe\n",
      "qwe\n"
     ]
    }
   ],
   "source": [
    "ch=input(\"Enter the string:\")\n",
    "print(ch)"
   ]
  },
  {
   "cell_type": "code",
   "execution_count": 5,
   "id": "44599b27",
   "metadata": {},
   "outputs": [
    {
     "name": "stdout",
     "output_type": "stream",
     "text": [
      "Enter the string:qwe\n",
      "q\n"
     ]
    }
   ],
   "source": [
    "ch=input(\"Enter the string:\")\n",
    "print(ch[0])"
   ]
  },
  {
   "cell_type": "code",
   "execution_count": 6,
   "id": "23520bea",
   "metadata": {},
   "outputs": [
    {
     "name": "stdout",
     "output_type": "stream",
     "text": [
      "Enter the string:qwe\n",
      "q\n"
     ]
    }
   ],
   "source": [
    "ch=input(\"Enter the string:\")[0]\n",
    "print(ch)"
   ]
  },
  {
   "cell_type": "code",
   "execution_count": 8,
   "id": "4cd8f503",
   "metadata": {},
   "outputs": [
    {
     "name": "stdout",
     "output_type": "stream",
     "text": [
      "Enter the expression:3+5-9\n",
      "-1\n"
     ]
    }
   ],
   "source": [
    "#solving expressions\n",
    "result = eval(input(\"Enter the expression:\"))\n",
    "print(result)"
   ]
  },
  {
   "cell_type": "code",
   "execution_count": 9,
   "id": "9114a51b",
   "metadata": {},
   "outputs": [
    {
     "name": "stdout",
     "output_type": "stream",
     "text": [
      "[1, 2, 3, 3, 45, 4]\n"
     ]
    }
   ],
   "source": [
    "#lists in python\n",
    "lst=[1,2,3,3,45,4]\n",
    "print(lst)"
   ]
  },
  {
   "cell_type": "code",
   "execution_count": 10,
   "id": "237272ad",
   "metadata": {},
   "outputs": [
    {
     "name": "stdout",
     "output_type": "stream",
     "text": [
      "[3, 3, 45, 4]\n"
     ]
    }
   ],
   "source": [
    "lst=[1,2,3,3,45,4]\n",
    "print(lst[2:8])"
   ]
  },
  {
   "cell_type": "code",
   "execution_count": 11,
   "id": "289c1216",
   "metadata": {},
   "outputs": [
    {
     "name": "stdout",
     "output_type": "stream",
     "text": [
      "[1, 2, 3, 3, 45, 4]\n"
     ]
    }
   ],
   "source": [
    "lst=[1,2,3,3,45,4]\n",
    "print(lst[:34])"
   ]
  },
  {
   "cell_type": "code",
   "execution_count": 12,
   "id": "cab56951",
   "metadata": {},
   "outputs": [
    {
     "name": "stdout",
     "output_type": "stream",
     "text": [
      "[1]\n"
     ]
    }
   ],
   "source": [
    "lst=[1,2,3,3,45,4]\n",
    "print(lst[:1])"
   ]
  },
  {
   "cell_type": "code",
   "execution_count": 13,
   "id": "1e47f60f",
   "metadata": {},
   "outputs": [
    {
     "name": "stdout",
     "output_type": "stream",
     "text": [
      "[1, 2, 3, 3, 45, 4]\n"
     ]
    }
   ],
   "source": [
    "lst=[1,2,3,3,45,4]\n",
    "print(lst)"
   ]
  },
  {
   "cell_type": "code",
   "execution_count": 14,
   "id": "c5ac94b5",
   "metadata": {},
   "outputs": [
    {
     "name": "stdout",
     "output_type": "stream",
     "text": [
      "['sakib', 'samartha', 'tate']\n"
     ]
    }
   ],
   "source": [
    "lst1=['sakib','samartha','tate']\n",
    "print(lst1)"
   ]
  },
  {
   "cell_type": "code",
   "execution_count": 15,
   "id": "6e258192",
   "metadata": {},
   "outputs": [
    {
     "name": "stdout",
     "output_type": "stream",
     "text": [
      "[1, 'sakib', '10.00']\n"
     ]
    }
   ],
   "source": [
    "lst=[1,'sakib','10.00']\n",
    "print(lst)"
   ]
  },
  {
   "cell_type": "code",
   "execution_count": 16,
   "id": "04b46589",
   "metadata": {},
   "outputs": [
    {
     "name": "stdout",
     "output_type": "stream",
     "text": [
      "[[1, 'sakib', '10.00'], ['sakib', 'samartha', 'tate']]\n"
     ]
    }
   ],
   "source": [
    "listt=[lst,lst1]\n",
    "print(listt)"
   ]
  },
  {
   "cell_type": "code",
   "execution_count": 17,
   "id": "c6a963ee",
   "metadata": {},
   "outputs": [],
   "source": [
    "lst.append(30)"
   ]
  },
  {
   "cell_type": "code",
   "execution_count": 18,
   "id": "cdd846a9",
   "metadata": {},
   "outputs": [
    {
     "name": "stdout",
     "output_type": "stream",
     "text": [
      "[1, 'sakib', '10.00', 30]\n"
     ]
    }
   ],
   "source": [
    "print(lst)"
   ]
  },
  {
   "cell_type": "code",
   "execution_count": 19,
   "id": "2de1c09b",
   "metadata": {},
   "outputs": [
    {
     "name": "stdout",
     "output_type": "stream",
     "text": [
      "[[1, 'sakib', '10.00', 30], ['sakib', 'samartha', 'tate', 90]]\n"
     ]
    }
   ],
   "source": [
    "lst1.insert(3,90)\n",
    "print(listt)"
   ]
  },
  {
   "cell_type": "code",
   "execution_count": 20,
   "id": "9345b20a",
   "metadata": {},
   "outputs": [
    {
     "name": "stdout",
     "output_type": "stream",
     "text": [
      "(12.34, 56, 23, 98, 3)\n"
     ]
    }
   ],
   "source": [
    "tup=(12.34,56,23,98,3)\n",
    "print(tup)"
   ]
  },
  {
   "cell_type": "code",
   "execution_count": 21,
   "id": "215c67e1",
   "metadata": {},
   "outputs": [
    {
     "name": "stdout",
     "output_type": "stream",
     "text": [
      "56\n"
     ]
    }
   ],
   "source": [
    "print(tup[1])"
   ]
  },
  {
   "cell_type": "code",
   "execution_count": 23,
   "id": "d3d9dc8a",
   "metadata": {},
   "outputs": [
    {
     "name": "stdout",
     "output_type": "stream",
     "text": [
      "{'Name': 'Sakib', 'AGe': 18, 'Sem': 4}\n"
     ]
    }
   ],
   "source": [
    "dict={'Name':'Sakib','AGe':18,'Sem':4}\n",
    "print(dict)"
   ]
  },
  {
   "cell_type": "code",
   "execution_count": 31,
   "id": "9babb6a2",
   "metadata": {},
   "outputs": [
    {
     "name": "stdout",
     "output_type": "stream",
     "text": [
      "<zip object at 0x00000219D6AED400>\n"
     ]
    }
   ],
   "source": [
    "keys=['Sakib','Samrtha','biro']\n",
    "values=['h2','urus','yacht']\n",
    "data=zip(keys,values)\n",
    "print(data)"
   ]
  },
  {
   "cell_type": "code",
   "execution_count": 32,
   "id": "8c085970",
   "metadata": {},
   "outputs": [
    {
     "ename": "TypeError",
     "evalue": "'dict' object is not callable",
     "output_type": "error",
     "traceback": [
      "\u001b[1;31m---------------------------------------------------------------------------\u001b[0m",
      "\u001b[1;31mTypeError\u001b[0m                                 Traceback (most recent call last)",
      "Cell \u001b[1;32mIn[32], line 3\u001b[0m\n\u001b[0;32m      1\u001b[0m keys\u001b[38;5;241m=\u001b[39m[\u001b[38;5;124m'\u001b[39m\u001b[38;5;124mSakib\u001b[39m\u001b[38;5;124m'\u001b[39m,\u001b[38;5;124m'\u001b[39m\u001b[38;5;124mSamrtha\u001b[39m\u001b[38;5;124m'\u001b[39m,\u001b[38;5;124m'\u001b[39m\u001b[38;5;124mbiro\u001b[39m\u001b[38;5;124m'\u001b[39m]\n\u001b[0;32m      2\u001b[0m values\u001b[38;5;241m=\u001b[39m[\u001b[38;5;124m'\u001b[39m\u001b[38;5;124mh2\u001b[39m\u001b[38;5;124m'\u001b[39m,\u001b[38;5;124m'\u001b[39m\u001b[38;5;124murus\u001b[39m\u001b[38;5;124m'\u001b[39m,\u001b[38;5;124m'\u001b[39m\u001b[38;5;124myacht\u001b[39m\u001b[38;5;124m'\u001b[39m]\n\u001b[1;32m----> 3\u001b[0m data\u001b[38;5;241m=\u001b[39m\u001b[38;5;28;43mdict\u001b[39;49m\u001b[43m(\u001b[49m\u001b[38;5;28;43mzip\u001b[39;49m\u001b[43m(\u001b[49m\u001b[43mkeys\u001b[49m\u001b[43m,\u001b[49m\u001b[43mvalues\u001b[49m\u001b[43m)\u001b[49m\u001b[43m)\u001b[49m\n\u001b[0;32m      4\u001b[0m \u001b[38;5;28mprint\u001b[39m(data)\n",
      "\u001b[1;31mTypeError\u001b[0m: 'dict' object is not callable"
     ]
    }
   ],
   "source": [
    "keys=['Sakib','Samrtha','biro']\n",
    "values=['h2','urus','yacht']\n",
    "data=dict(zip(keys,values))\n",
    "print(data)"
   ]
  },
  {
   "cell_type": "code",
   "execution_count": 1,
   "id": "94710126",
   "metadata": {},
   "outputs": [
    {
     "name": "stdout",
     "output_type": "stream",
     "text": [
      "condition satisfied\n"
     ]
    }
   ],
   "source": [
    "#conditional statements\n",
    "if True:\n",
    "    print(\"condition satisfied\")"
   ]
  },
  {
   "cell_type": "code",
   "execution_count": 2,
   "id": "5426e412",
   "metadata": {},
   "outputs": [
    {
     "name": "stdout",
     "output_type": "stream",
     "text": [
      "print\n",
      "outer\n"
     ]
    }
   ],
   "source": [
    "if True:\n",
    "    print(\"print\")\n",
    "print(\"outer\")\n"
   ]
  },
  {
   "cell_type": "code",
   "execution_count": 3,
   "id": "5d67d459",
   "metadata": {},
   "outputs": [
    {
     "name": "stdout",
     "output_type": "stream",
     "text": [
      "outer\n"
     ]
    }
   ],
   "source": [
    "if False:\n",
    "    print(\"print\")\n",
    "print(\"outer\")"
   ]
  },
  {
   "cell_type": "code",
   "execution_count": 8,
   "id": "8bdf6f25",
   "metadata": {},
   "outputs": [
    {
     "name": "stdout",
     "output_type": "stream",
     "text": [
      "nothing\n"
     ]
    }
   ],
   "source": [
    "x=3.33333\n",
    "r=x%2\n",
    "if r==0:\n",
    "    print(\"x is even\")\n",
    "elif r==1:\n",
    "    print(\"x is odd\")\n",
    "else :\n",
    "    print(\"nothing\")"
   ]
  },
  {
   "cell_type": "code",
   "execution_count": 9,
   "id": "7efe519f",
   "metadata": {},
   "outputs": [
    {
     "name": "stdout",
     "output_type": "stream",
     "text": [
      "enter the number12\n",
      "four\n"
     ]
    }
   ],
   "source": [
    "x=input(\"enter the number\")\n",
    "if x==1:\n",
    "    print(\"one\")\n",
    "elif x==2:\n",
    "    print(\"twoo\")\n",
    "elif x==3:\n",
    "    print(\"three\")\n",
    "else:\n",
    "    print(\"four\")"
   ]
  },
  {
   "cell_type": "code",
   "execution_count": 10,
   "id": "e2429cd2",
   "metadata": {},
   "outputs": [
    {
     "ename": "NameError",
     "evalue": "name 'pritn' is not defined",
     "output_type": "error",
     "traceback": [
      "\u001b[1;31m---------------------------------------------------------------------------\u001b[0m",
      "\u001b[1;31mNameError\u001b[0m                                 Traceback (most recent call last)",
      "Cell \u001b[1;32mIn[10], line 3\u001b[0m\n\u001b[0;32m      1\u001b[0m i\u001b[38;5;241m=\u001b[39m\u001b[38;5;241m1\u001b[39m\n\u001b[0;32m      2\u001b[0m \u001b[38;5;28;01mwhile\u001b[39;00m i\u001b[38;5;241m<\u001b[39m\u001b[38;5;241m=\u001b[39m\u001b[38;5;241m5\u001b[39m:\n\u001b[1;32m----> 3\u001b[0m     \u001b[43mpritn\u001b[49m(\u001b[38;5;124m\"\u001b[39m\u001b[38;5;124mSakib\u001b[39m\u001b[38;5;124m\"\u001b[39m)\n\u001b[0;32m      4\u001b[0m     i\u001b[38;5;241m=\u001b[39mi\u001b[38;5;241m+\u001b[39m\u001b[38;5;241m1\u001b[39m\n",
      "\u001b[1;31mNameError\u001b[0m: name 'pritn' is not defined"
     ]
    }
   ],
   "source": [
    "i=1\n",
    "while i<=5:\n",
    "    pritn(\"Sakib\")\n",
    "    i=i+1"
   ]
  },
  {
   "cell_type": "code",
   "execution_count": 11,
   "id": "49334611",
   "metadata": {},
   "outputs": [
    {
     "name": "stdout",
     "output_type": "stream",
     "text": [
      "Sakib\n",
      "Sakib\n",
      "Sakib\n",
      "Sakib\n",
      "Sakib\n"
     ]
    }
   ],
   "source": [
    "i=1\n",
    "while i<=5:\n",
    "    print(\"Sakib\")\n",
    "    i=i+1"
   ]
  },
  {
   "cell_type": "code",
   "execution_count": 12,
   "id": "b18ec0e9",
   "metadata": {},
   "outputs": [
    {
     "name": "stdout",
     "output_type": "stream",
     "text": [
      "Sakib\n",
      "G\n",
      "G\n",
      "G\n",
      "G\n",
      "G\n",
      "G\n",
      "G\n",
      "G\n",
      "G\n"
     ]
    }
   ],
   "source": [
    "i=1\n",
    "while i<=10:\n",
    "    print(\"Sakib\")\n",
    "    i=i+1\n",
    "    while i<=10:\n",
    "        print(\"G\")\n",
    "        i=i+1\n",
    "        "
   ]
  },
  {
   "cell_type": "code",
   "execution_count": 15,
   "id": "a164cc88",
   "metadata": {},
   "outputs": [
    {
     "name": "stdout",
     "output_type": "stream",
     "text": [
      "Sakib\n",
      "Sakib\n",
      "Sakib\n",
      "Sakib\n",
      "Sakib\n",
      "Sakib\n",
      "Sakib\n",
      "Sakib\n",
      "Sakib\n",
      "Sakib\n"
     ]
    }
   ],
   "source": [
    "i=1\n",
    "while i<=10:\n",
    "    print(\"Sakib\")\n",
    "    i=i+1\n",
    "    while j<=10:\n",
    "        print(\"G\")\n",
    "        j=j+1"
   ]
  },
  {
   "cell_type": "code",
   "execution_count": 16,
   "id": "0d6ad207",
   "metadata": {},
   "outputs": [
    {
     "name": "stdout",
     "output_type": "stream",
     "text": [
      "Sakib\n",
      "G\n",
      "G\n",
      "G\n",
      "G\n",
      "G\n",
      "G\n",
      "G\n",
      "G\n",
      "G\n",
      "G\n",
      "Sakib\n",
      "Sakib\n",
      "Sakib\n",
      "Sakib\n",
      "Sakib\n",
      "Sakib\n",
      "Sakib\n",
      "Sakib\n",
      "Sakib\n"
     ]
    }
   ],
   "source": [
    "i=1\n",
    "j=1\n",
    "while i<=10:\n",
    "    print(\"Sakib\")\n",
    "    i=i+1\n",
    "    while j<=10:\n",
    "        print(\"G\")\n",
    "        j=j+1"
   ]
  },
  {
   "cell_type": "code",
   "execution_count": 20,
   "id": "9db39687",
   "metadata": {},
   "outputs": [
    {
     "name": "stdout",
     "output_type": "stream",
     "text": [
      "Sakib   G   G   G   G   G   \n",
      "Sakib   G   G   G   G   G   \n",
      "Sakib   G   G   G   G   G   \n",
      "Sakib   G   G   G   G   G   \n",
      "Sakib   G   G   G   G   G   \n"
     ]
    }
   ],
   "source": [
    "i=1\n",
    "while i<=5:\n",
    "    print(\"Sakib   \",end=\"\")\n",
    "    j=1\n",
    "    while j<=5:\n",
    "        print(\"G   \",end=\"\")\n",
    "        j=j+1\n",
    "    i=i+1\n",
    "    print()"
   ]
  },
  {
   "cell_type": "code",
   "execution_count": 1,
   "id": "2eebd281",
   "metadata": {},
   "outputs": [
    {
     "name": "stdout",
     "output_type": "stream",
     "text": [
      "Sakib\n",
      "35\n",
      "2.5\n"
     ]
    }
   ],
   "source": [
    "x=['Sakib','35','2.5']\n",
    "for i in x:\n",
    "    print(i)"
   ]
  },
  {
   "cell_type": "code",
   "execution_count": 3,
   "id": "5a526940",
   "metadata": {},
   "outputs": [
    {
     "name": "stdout",
     "output_type": "stream",
     "text": [
      "S\n",
      "a\n",
      "k\n",
      "i\n",
      "b\n"
     ]
    }
   ],
   "source": [
    "x='Sakib'\n",
    "for i in x:\n",
    "    print(i)"
   ]
  },
  {
   "cell_type": "code",
   "execution_count": 7,
   "id": "71a3999e",
   "metadata": {},
   "outputs": [
    {
     "name": "stdout",
     "output_type": "stream",
     "text": [
      "sakib\n",
      "53\n"
     ]
    }
   ],
   "source": [
    "for i in [\"sakib\",'53']:\n",
    "    print(i)"
   ]
  },
  {
   "cell_type": "code",
   "execution_count": 9,
   "id": "83928ad8",
   "metadata": {},
   "outputs": [
    {
     "name": "stdout",
     "output_type": "stream",
     "text": [
      "0\n",
      "1\n",
      "2\n",
      "3\n",
      "4\n",
      "5\n",
      "6\n",
      "7\n",
      "8\n",
      "9\n"
     ]
    }
   ],
   "source": [
    "for i in range(10):\n",
    "    print(i)"
   ]
  },
  {
   "cell_type": "code",
   "execution_count": 11,
   "id": "cdee2b27",
   "metadata": {},
   "outputs": [
    {
     "name": "stdout",
     "output_type": "stream",
     "text": [
      "1\n",
      "3\n",
      "5\n",
      "7\n",
      "9\n"
     ]
    }
   ],
   "source": [
    "for i in range(1,10,2):\n",
    "    print(i)"
   ]
  },
  {
   "cell_type": "code",
   "execution_count": 13,
   "id": "c6a61980",
   "metadata": {},
   "outputs": [
    {
     "name": "stdout",
     "output_type": "stream",
     "text": [
      "1\n",
      "2\n",
      "3\n",
      "4\n",
      "5\n",
      "6\n",
      "7\n"
     ]
    }
   ],
   "source": [
    "for i in range(1,8):\n",
    "    print(i)"
   ]
  },
  {
   "cell_type": "code",
   "execution_count": 15,
   "id": "78d4e666",
   "metadata": {},
   "outputs": [
    {
     "name": "stdout",
     "output_type": "stream",
     "text": [
      "20\n",
      "17\n",
      "14\n",
      "11\n",
      "8\n",
      "5\n",
      "2\n"
     ]
    }
   ],
   "source": [
    "for i in range(20,1,-3):\n",
    "    print(i)"
   ]
  },
  {
   "cell_type": "code",
   "execution_count": 18,
   "id": "bab6a313",
   "metadata": {},
   "outputs": [
    {
     "name": "stdout",
     "output_type": "stream",
     "text": [
      "1\n",
      "2\n",
      "3\n",
      "4\n",
      "6\n",
      "7\n",
      "8\n",
      "9\n"
     ]
    }
   ],
   "source": [
    "for i in range(11):\n",
    "    if i%5!=0:\n",
    "        print(i) "
   ]
  },
  {
   "cell_type": "code",
   "execution_count": 21,
   "id": "cccb4ae1",
   "metadata": {},
   "outputs": [
    {
     "name": "stdout",
     "output_type": "stream",
     "text": [
      "candies\n",
      "candies\n",
      "candies\n",
      "candies\n",
      "candies\n"
     ]
    }
   ],
   "source": [
    "x=int(input(\"Enter how many candies\"))\n",
    "i=1\n",
    "while i<=5:\n",
    "    print(\"candies\")\n",
    "    i+=1"
   ]
  },
  {
   "cell_type": "code",
   "execution_count": 26,
   "id": "d144267a",
   "metadata": {},
   "outputs": [
    {
     "name": "stdout",
     "output_type": "stream",
     "text": [
      "1\n",
      "2\n",
      "4\n",
      "5\n",
      "7\n",
      "8\n",
      "10\n",
      "11\n",
      "13\n",
      "14\n",
      "16\n",
      "17\n",
      "19\n",
      "20\n"
     ]
    }
   ],
   "source": [
    "for i in range(1,21):\n",
    "    if i%3==0:\n",
    "        continue\n",
    "    print(i)"
   ]
  },
  {
   "cell_type": "code",
   "execution_count": 28,
   "id": "668491d8",
   "metadata": {},
   "outputs": [
    {
     "name": "stdout",
     "output_type": "stream",
     "text": [
      "2\n",
      "4\n",
      "6\n",
      "8\n"
     ]
    }
   ],
   "source": [
    "for i in range(1,10):\n",
    "    if i%2!=0:\n",
    "        pass\n",
    "    else:\n",
    "        print(i)"
   ]
  },
  {
   "cell_type": "code",
   "execution_count": 30,
   "id": "fc1b3622",
   "metadata": {},
   "outputs": [
    {
     "name": "stdout",
     "output_type": "stream",
     "text": [
      "no number is present\n"
     ]
    }
   ],
   "source": [
    "nums=[12,34,56,87]\n",
    "for num in nums:\n",
    "    if num%5==0:\n",
    "        print(num)\n",
    "else:\n",
    "    print(\"no number is present\")"
   ]
  },
  {
   "cell_type": "code",
   "execution_count": 34,
   "id": "f5e6c07d",
   "metadata": {},
   "outputs": [
    {
     "name": "stdout",
     "output_type": "stream",
     "text": [
      "array('i', [5, 7, 4, 3, 2, 1])\n"
     ]
    }
   ],
   "source": [
    "#array\n",
    "from array import *\n",
    "vals=array('i',[5,7,4,3,2,1])\n",
    "print(vals)\n"
   ]
  },
  {
   "cell_type": "code",
   "execution_count": 36,
   "id": "72677e25",
   "metadata": {},
   "outputs": [
    {
     "name": "stdout",
     "output_type": "stream",
     "text": [
      "(2047379098672, 6)\n"
     ]
    }
   ],
   "source": [
    "from array import *\n",
    "vals=array('i',[5,7,4,3,2,1])\n",
    "print(vals.buffer_info())"
   ]
  },
  {
   "cell_type": "code",
   "execution_count": 38,
   "id": "f30ca318",
   "metadata": {},
   "outputs": [
    {
     "name": "stdout",
     "output_type": "stream",
     "text": [
      "i\n"
     ]
    }
   ],
   "source": [
    "from array import *\n",
    "vals=array('i',[5,7,4,3,2,1])\n",
    "print(vals.typecode)"
   ]
  },
  {
   "cell_type": "code",
   "execution_count": 40,
   "id": "fe63405e",
   "metadata": {},
   "outputs": [
    {
     "name": "stdout",
     "output_type": "stream",
     "text": [
      "array('i', [1, 2, 3, 4, 7, 5])\n"
     ]
    }
   ],
   "source": [
    "from array import *\n",
    "vals=array('i',[5,7,4,3,2,1])\n",
    "vals.reverse()\n",
    "print(vals)"
   ]
  },
  {
   "cell_type": "code",
   "execution_count": 42,
   "id": "da8d18b0",
   "metadata": {},
   "outputs": [
    {
     "name": "stdout",
     "output_type": "stream",
     "text": [
      "4\n"
     ]
    }
   ],
   "source": [
    "from array import *\n",
    "vals=array('i',[5,7,4,3,2,1])\n",
    "print(vals[2])"
   ]
  },
  {
   "cell_type": "code",
   "execution_count": 47,
   "id": "e193a291",
   "metadata": {},
   "outputs": [
    {
     "name": "stdout",
     "output_type": "stream",
     "text": [
      "5\n",
      "7\n",
      "4\n",
      "3\n",
      "2\n"
     ]
    }
   ],
   "source": [
    "from array import *\n",
    "vals=array('i',[5,7,4,3,2,1])\n",
    "for i in range(5):\n",
    "    print(vals[i])"
   ]
  },
  {
   "cell_type": "code",
   "execution_count": 49,
   "id": "6cfda123",
   "metadata": {},
   "outputs": [
    {
     "name": "stdout",
     "output_type": "stream",
     "text": [
      "5\n",
      "7\n",
      "4\n",
      "3\n",
      "2\n",
      "1\n"
     ]
    }
   ],
   "source": [
    "from array import *\n",
    "vals=array('i',[5,7,4,3,2,1])\n",
    "for i in range(len(vals)):\n",
    "    print(vals[i])"
   ]
  },
  {
   "cell_type": "code",
   "execution_count": 51,
   "id": "ca84a653",
   "metadata": {},
   "outputs": [
    {
     "name": "stdout",
     "output_type": "stream",
     "text": [
      "5\n",
      "7\n",
      "4\n",
      "3\n",
      "2\n",
      "1\n"
     ]
    }
   ],
   "source": [
    "from array import *\n",
    "vals=array('i',[5,7,4,3,2,1])\n",
    "for e in vals:\n",
    "    print(e)"
   ]
  },
  {
   "cell_type": "code",
   "execution_count": 53,
   "id": "128be4f0",
   "metadata": {},
   "outputs": [
    {
     "name": "stdout",
     "output_type": "stream",
     "text": [
      "5\n",
      "7\n",
      "4\n",
      "3\n",
      "2\n",
      "1\n"
     ]
    }
   ],
   "source": [
    "from array import *\n",
    "vals=array('i',[5,7,4,3,2,1])\n",
    "newArr=array(vals.typecode,(a for a in vals))\n",
    "for e in newArr:\n",
    "    print(e)"
   ]
  },
  {
   "cell_type": "code",
   "execution_count": 56,
   "id": "05f0bed6",
   "metadata": {},
   "outputs": [
    {
     "name": "stdout",
     "output_type": "stream",
     "text": [
      "array('i', [12, 12])\n"
     ]
    }
   ],
   "source": [
    "from array import *\n",
    "arr =array('i',[])\n",
    "n=int(input(\"enter the length\"))\n",
    "for i in range(n):\n",
    "    x=int(input(\"enter the value\"))\n",
    "    arr.append(x)\n",
    "print(arr)"
   ]
  },
  {
   "cell_type": "code",
   "execution_count": 1,
   "id": "9cb58449",
   "metadata": {},
   "outputs": [
    {
     "name": "stdout",
     "output_type": "stream",
     "text": [
      "[1 2 3 4 5 6 7 7]\n"
     ]
    }
   ],
   "source": [
    "from numpy import *\n",
    "arr=array([1,2,3,4,5,6,7,7])\n",
    "print(arr)"
   ]
  },
  {
   "cell_type": "code",
   "execution_count": 3,
   "id": "4acba219",
   "metadata": {},
   "outputs": [
    {
     "name": "stdout",
     "output_type": "stream",
     "text": [
      "int32\n"
     ]
    }
   ],
   "source": [
    "from numpy import *\n",
    "arr=array([1,2,3,4,5,6,7,7])\n",
    "print(arr.dtype)"
   ]
  },
  {
   "cell_type": "code",
   "execution_count": 6,
   "id": "4c66cbe9",
   "metadata": {},
   "outputs": [
    {
     "name": "stdout",
     "output_type": "stream",
     "text": [
      "[ 0.          0.41061224  0.82122449  1.23183673  1.64244898  2.05306122\n",
      "  2.46367347  2.87428571  3.28489796  3.6955102   4.10612245  4.51673469\n",
      "  4.92734694  5.33795918  5.74857143  6.15918367  6.56979592  6.98040816\n",
      "  7.39102041  7.80163265  8.2122449   8.62285714  9.03346939  9.44408163\n",
      "  9.85469388 10.26530612 10.67591837 11.08653061 11.49714286 11.9077551\n",
      " 12.31836735 12.72897959 13.13959184 13.55020408 13.96081633 14.37142857\n",
      " 14.78204082 15.19265306 15.60326531 16.01387755 16.4244898  16.83510204\n",
      " 17.24571429 17.65632653 18.06693878 18.47755102 18.88816327 19.29877551\n",
      " 19.70938776 20.12      ]\n"
     ]
    }
   ],
   "source": [
    "#linspace\n",
    "from numpy import *\n",
    "arr=linspace(0,20.12)\n",
    "print(arr)"
   ]
  },
  {
   "cell_type": "code",
   "execution_count": 8,
   "id": "1ad8560a",
   "metadata": {},
   "outputs": [
    {
     "name": "stdout",
     "output_type": "stream",
     "text": [
      "[1 3]\n"
     ]
    }
   ],
   "source": [
    "from numpy import *\n",
    "arr=arange(1,5,2)\n",
    "print(arr)"
   ]
  },
  {
   "cell_type": "code",
   "execution_count": 15,
   "id": "e110f3b0",
   "metadata": {},
   "outputs": [
    {
     "name": "stdout",
     "output_type": "stream",
     "text": [
      "[1.00000000e+01 5.62341325e+10 3.16227766e+20 1.77827941e+30\n",
      " 1.00000000e+40]\n"
     ]
    }
   ],
   "source": [
    "from numpy import *\n",
    "arr=logspace(1,40,5)\n",
    "print(arr)"
   ]
  },
  {
   "cell_type": "code",
   "execution_count": 4,
   "id": "7d4d90c9",
   "metadata": {},
   "outputs": [
    {
     "name": "stdout",
     "output_type": "stream",
     "text": [
      "9 -1\n"
     ]
    }
   ],
   "source": [
    "def greet():\n",
    "    print(\"hello\")\n",
    "    print(\"good morning\")\n",
    "def add_sub(x,y):\n",
    "    c=x+y\n",
    "    d=x-y\n",
    "    return c,d\n",
    "result1,result2=add_sub(4,5)\n",
    "print(result1,result2)"
   ]
  },
  {
   "cell_type": "code",
   "execution_count": 6,
   "id": "6c2a1969",
   "metadata": {},
   "outputs": [
    {
     "name": "stdout",
     "output_type": "stream",
     "text": [
      "2102823402944\n",
      "2102823402944\n",
      "2102823402944\n",
      "x [100, 8, 300]\n",
      "a [100, 8, 300]\n"
     ]
    }
   ],
   "source": [
    "def update(x):\n",
    "    print(id(x))\n",
    "    x[1]=8\n",
    "    print(id(x))\n",
    "    print('x',x)\n",
    "x=[100,200,300]\n",
    "print(id(x))\n",
    "update(x)\n",
    "print('a',x)"
   ]
  },
  {
   "cell_type": "code",
   "execution_count": 8,
   "id": "8bf64b10",
   "metadata": {},
   "outputs": [
    {
     "name": "stdout",
     "output_type": "stream",
     "text": [
      "Sakib Ahamed\n",
      "19\n"
     ]
    }
   ],
   "source": [
    "def person(name,age=19):\n",
    "    print(name)\n",
    "    print(age)\n",
    "person('Sakib Ahamed')"
   ]
  },
  {
   "cell_type": "code",
   "execution_count": 10,
   "id": "4886561a",
   "metadata": {},
   "outputs": [
    {
     "name": "stdout",
     "output_type": "stream",
     "text": [
      "10\n"
     ]
    }
   ],
   "source": [
    "def sum(*b):\n",
    "    c=0\n",
    "    \n",
    "    for i in b:\n",
    "        c=c+i\n",
    "    print(c)\n",
    "sum(1,2,3,4)"
   ]
  },
  {
   "cell_type": "code",
   "execution_count": 12,
   "id": "7c5b5c43",
   "metadata": {},
   "outputs": [
    {
     "name": "stdout",
     "output_type": "stream",
     "text": [
      "Sakib\n",
      "{'age': 19, 'city': 'Tarikere', 'mob': 7483022545}\n"
     ]
    }
   ],
   "source": [
    "def person(name,**data):\n",
    "    print(name)\n",
    "    print(data)\n",
    "person('Sakib',age=19,city='Tarikere',mob=7483022545)"
   ]
  },
  {
   "cell_type": "code",
   "execution_count": 14,
   "id": "d731666f",
   "metadata": {},
   "outputs": [
    {
     "name": "stdout",
     "output_type": "stream",
     "text": [
      "2102823402944\n",
      "15\n",
      "outside 15\n"
     ]
    }
   ],
   "source": [
    "a=9\n",
    "def something():\n",
    "    global a\n",
    "    a=15\n",
    "    print(id(x))\n",
    "    print(a)\n",
    "something()\n",
    "print('outside',a)"
   ]
  },
  {
   "cell_type": "code",
   "execution_count": 16,
   "id": "e379d3d2",
   "metadata": {},
   "outputs": [
    {
     "name": "stdout",
     "output_type": "stream",
     "text": [
      "even : 3 and odd :3\n"
     ]
    }
   ],
   "source": [
    "def count(lst):\n",
    "    even=0\n",
    "    odd=0\n",
    "    for i in lst:\n",
    "        if i%2==0:\n",
    "            even+=1\n",
    "            \n",
    "        else:\n",
    "            odd+=1\n",
    "    return even,odd\n",
    "\n",
    "lst=[1,2,3,4,5,6]\n",
    "even,odd=count(lst)\n",
    "print('even : {} and odd :{}'.format(even,odd))"
   ]
  },
  {
   "cell_type": "code",
   "execution_count": 21,
   "id": "b2485715",
   "metadata": {},
   "outputs": [
    {
     "name": "stdout",
     "output_type": "stream",
     "text": [
      "Unexpected exception formatting exception. Falling back to standard exception\n"
     ]
    },
    {
     "name": "stderr",
     "output_type": "stream",
     "text": [
      "Traceback (most recent call last):\n",
      "  File \"c:\\Users\\zulfi\\anaconda3\\lib\\site-packages\\IPython\\core\\interactiveshell.py\", line 3460, in run_code\n",
      "    exec(code_obj, self.user_global_ns, self.user_ns)\n",
      "  File \"C:\\Users\\zulfi\\AppData\\Local\\Temp\\ipykernel_9264\\2665142262.py\", line 2, in <module>\n",
      "    sys.setrecursionlimit(10)\n",
      "RecursionError: cannot set the recursion limit to 10 at the recursion depth 28: the limit is too low\n",
      "\n",
      "During handling of the above exception, another exception occurred:\n",
      "\n",
      "Traceback (most recent call last):\n",
      "  File \"c:\\Users\\zulfi\\anaconda3\\lib\\site-packages\\pygments\\lexer.py\", line 495, in _process_state\n",
      "    rex = cls._process_regex(tdef[0], rflags, state)\n",
      "  File \"c:\\Users\\zulfi\\anaconda3\\lib\\site-packages\\pygments\\lexer.py\", line 423, in _process_regex\n",
      "    regex = regex.get()\n",
      "  File \"c:\\Users\\zulfi\\anaconda3\\lib\\site-packages\\pygments\\lexer.py\", line 411, in get\n",
      "    return regex_opt(self.words, prefix=self.prefix, suffix=self.suffix)\n",
      "  File \"c:\\Users\\zulfi\\anaconda3\\lib\\site-packages\\pygments\\regexopt.py\", line 91, in regex_opt\n",
      "    return prefix + regex_opt_inner(strings, '(') + suffix\n",
      "  File \"c:\\Users\\zulfi\\anaconda3\\lib\\site-packages\\pygments\\regexopt.py\", line 77, in regex_opt_inner\n",
      "    '|'.join(regex_opt_inner(list(group[1]), '')\n",
      "  File \"c:\\Users\\zulfi\\anaconda3\\lib\\site-packages\\pygments\\regexopt.py\", line 77, in <genexpr>\n",
      "    '|'.join(regex_opt_inner(list(group[1]), '')\n",
      "  File \"c:\\Users\\zulfi\\anaconda3\\lib\\site-packages\\pygments\\regexopt.py\", line 77, in regex_opt_inner\n",
      "    '|'.join(regex_opt_inner(list(group[1]), '')\n",
      "  File \"c:\\Users\\zulfi\\anaconda3\\lib\\site-packages\\pygments\\regexopt.py\", line 77, in <genexpr>\n",
      "    '|'.join(regex_opt_inner(list(group[1]), '')\n",
      "  File \"c:\\Users\\zulfi\\anaconda3\\lib\\site-packages\\pygments\\regexopt.py\", line 77, in regex_opt_inner\n",
      "    '|'.join(regex_opt_inner(list(group[1]), '')\n",
      "  File \"c:\\Users\\zulfi\\anaconda3\\lib\\site-packages\\pygments\\regexopt.py\", line 77, in <genexpr>\n",
      "    '|'.join(regex_opt_inner(list(group[1]), '')\n",
      "  File \"c:\\Users\\zulfi\\anaconda3\\lib\\site-packages\\pygments\\regexopt.py\", line 77, in regex_opt_inner\n",
      "    '|'.join(regex_opt_inner(list(group[1]), '')\n",
      "  File \"c:\\Users\\zulfi\\anaconda3\\lib\\site-packages\\pygments\\regexopt.py\", line 77, in <genexpr>\n",
      "    '|'.join(regex_opt_inner(list(group[1]), '')\n",
      "  File \"c:\\Users\\zulfi\\anaconda3\\lib\\site-packages\\pygments\\regexopt.py\", line 77, in regex_opt_inner\n",
      "    '|'.join(regex_opt_inner(list(group[1]), '')\n",
      "  File \"c:\\Users\\zulfi\\anaconda3\\lib\\site-packages\\pygments\\regexopt.py\", line 77, in <genexpr>\n",
      "    '|'.join(regex_opt_inner(list(group[1]), '')\n",
      "  File \"c:\\Users\\zulfi\\anaconda3\\lib\\site-packages\\pygments\\regexopt.py\", line 77, in regex_opt_inner\n",
      "    '|'.join(regex_opt_inner(list(group[1]), '')\n",
      "  File \"c:\\Users\\zulfi\\anaconda3\\lib\\site-packages\\pygments\\regexopt.py\", line 77, in <genexpr>\n",
      "    '|'.join(regex_opt_inner(list(group[1]), '')\n",
      "  File \"c:\\Users\\zulfi\\anaconda3\\lib\\site-packages\\pygments\\regexopt.py\", line 77, in regex_opt_inner\n",
      "    '|'.join(regex_opt_inner(list(group[1]), '')\n",
      "  File \"c:\\Users\\zulfi\\anaconda3\\lib\\site-packages\\pygments\\regexopt.py\", line 77, in <genexpr>\n",
      "    '|'.join(regex_opt_inner(list(group[1]), '')\n",
      "  File \"c:\\Users\\zulfi\\anaconda3\\lib\\site-packages\\pygments\\regexopt.py\", line 77, in regex_opt_inner\n",
      "    '|'.join(regex_opt_inner(list(group[1]), '')\n",
      "  File \"c:\\Users\\zulfi\\anaconda3\\lib\\site-packages\\pygments\\regexopt.py\", line 77, in <genexpr>\n",
      "    '|'.join(regex_opt_inner(list(group[1]), '')\n",
      "  File \"c:\\Users\\zulfi\\anaconda3\\lib\\site-packages\\pygments\\regexopt.py\", line 77, in regex_opt_inner\n",
      "    '|'.join(regex_opt_inner(list(group[1]), '')\n",
      "  File \"c:\\Users\\zulfi\\anaconda3\\lib\\site-packages\\pygments\\regexopt.py\", line 77, in <genexpr>\n",
      "    '|'.join(regex_opt_inner(list(group[1]), '')\n",
      "  File \"c:\\Users\\zulfi\\anaconda3\\lib\\site-packages\\pygments\\regexopt.py\", line 77, in regex_opt_inner\n",
      "    '|'.join(regex_opt_inner(list(group[1]), '')\n",
      "  File \"c:\\Users\\zulfi\\anaconda3\\lib\\site-packages\\pygments\\regexopt.py\", line 77, in <genexpr>\n",
      "    '|'.join(regex_opt_inner(list(group[1]), '')\n",
      "  File \"c:\\Users\\zulfi\\anaconda3\\lib\\site-packages\\pygments\\regexopt.py\", line 77, in regex_opt_inner\n",
      "    '|'.join(regex_opt_inner(list(group[1]), '')\n",
      "  File \"c:\\Users\\zulfi\\anaconda3\\lib\\site-packages\\pygments\\regexopt.py\", line 77, in <genexpr>\n",
      "    '|'.join(regex_opt_inner(list(group[1]), '')\n",
      "  File \"c:\\Users\\zulfi\\anaconda3\\lib\\site-packages\\pygments\\regexopt.py\", line 77, in regex_opt_inner\n",
      "    '|'.join(regex_opt_inner(list(group[1]), '')\n",
      "  File \"c:\\Users\\zulfi\\anaconda3\\lib\\site-packages\\pygments\\regexopt.py\", line 77, in <genexpr>\n",
      "    '|'.join(regex_opt_inner(list(group[1]), '')\n",
      "  File \"c:\\Users\\zulfi\\anaconda3\\lib\\site-packages\\pygments\\regexopt.py\", line 77, in regex_opt_inner\n",
      "    '|'.join(regex_opt_inner(list(group[1]), '')\n",
      "  File \"c:\\Users\\zulfi\\anaconda3\\lib\\site-packages\\pygments\\regexopt.py\", line 77, in <genexpr>\n",
      "    '|'.join(regex_opt_inner(list(group[1]), '')\n",
      "  File \"c:\\Users\\zulfi\\anaconda3\\lib\\site-packages\\pygments\\regexopt.py\", line 77, in regex_opt_inner\n",
      "    '|'.join(regex_opt_inner(list(group[1]), '')\n",
      "  File \"c:\\Users\\zulfi\\anaconda3\\lib\\site-packages\\pygments\\regexopt.py\", line 77, in <genexpr>\n",
      "    '|'.join(regex_opt_inner(list(group[1]), '')\n",
      "  File \"c:\\Users\\zulfi\\anaconda3\\lib\\site-packages\\pygments\\regexopt.py\", line 63, in regex_opt_inner\n",
      "    + regex_opt_inner([s[plen:] for s in strings], '(?:') \\\n",
      "  File \"c:\\Users\\zulfi\\anaconda3\\lib\\site-packages\\pygments\\regexopt.py\", line 77, in regex_opt_inner\n",
      "    '|'.join(regex_opt_inner(list(group[1]), '')\n",
      "  File \"c:\\Users\\zulfi\\anaconda3\\lib\\site-packages\\pygments\\regexopt.py\", line 77, in <genexpr>\n",
      "    '|'.join(regex_opt_inner(list(group[1]), '')\n",
      "  File \"c:\\Users\\zulfi\\anaconda3\\lib\\site-packages\\pygments\\regexopt.py\", line 77, in regex_opt_inner\n",
      "    '|'.join(regex_opt_inner(list(group[1]), '')\n",
      "  File \"c:\\Users\\zulfi\\anaconda3\\lib\\site-packages\\pygments\\regexopt.py\", line 77, in <genexpr>\n",
      "    '|'.join(regex_opt_inner(list(group[1]), '')\n",
      "  File \"c:\\Users\\zulfi\\anaconda3\\lib\\site-packages\\pygments\\regexopt.py\", line 77, in regex_opt_inner\n",
      "    '|'.join(regex_opt_inner(list(group[1]), '')\n",
      "  File \"c:\\Users\\zulfi\\anaconda3\\lib\\site-packages\\pygments\\regexopt.py\", line 77, in <genexpr>\n",
      "    '|'.join(regex_opt_inner(list(group[1]), '')\n",
      "  File \"c:\\Users\\zulfi\\anaconda3\\lib\\site-packages\\pygments\\regexopt.py\", line 36, in regex_opt_inner\n",
      "    return open_paren + escape(first) + close_paren\n",
      "  File \"c:\\Users\\zulfi\\anaconda3\\lib\\re.py\", line 273, in escape\n",
      "    if isinstance(pattern, str):\n",
      "RecursionError: maximum recursion depth exceeded while calling a Python object\n",
      "\n",
      "The above exception was the direct cause of the following exception:\n",
      "\n",
      "Traceback (most recent call last):\n",
      "  File \"c:\\Users\\zulfi\\anaconda3\\lib\\site-packages\\IPython\\core\\interactiveshell.py\", line 2057, in showtraceback\n",
      "    stb = self.InteractiveTB.structured_traceback(\n",
      "  File \"c:\\Users\\zulfi\\anaconda3\\lib\\site-packages\\IPython\\core\\ultratb.py\", line 1118, in structured_traceback\n",
      "    return FormattedTB.structured_traceback(\n",
      "  File \"c:\\Users\\zulfi\\anaconda3\\lib\\site-packages\\IPython\\core\\ultratb.py\", line 1012, in structured_traceback\n",
      "    return VerboseTB.structured_traceback(\n",
      "  File \"c:\\Users\\zulfi\\anaconda3\\lib\\site-packages\\IPython\\core\\ultratb.py\", line 865, in structured_traceback\n",
      "    formatted_exception = self.format_exception_as_a_whole(etype, evalue, etb, number_of_lines_of_context,\n",
      "  File \"c:\\Users\\zulfi\\anaconda3\\lib\\site-packages\\IPython\\core\\ultratb.py\", line 818, in format_exception_as_a_whole\n",
      "    frames.append(self.format_record(r))\n",
      "  File \"c:\\Users\\zulfi\\anaconda3\\lib\\site-packages\\IPython\\core\\ultratb.py\", line 736, in format_record\n",
      "    result += ''.join(_format_traceback_lines(frame_info.lines, Colors, self.has_colors, lvals))\n",
      "  File \"c:\\Users\\zulfi\\anaconda3\\lib\\site-packages\\IPython\\core\\ultratb.py\", line 155, in _format_traceback_lines\n",
      "    line = stack_line.render(pygmented=has_colors).rstrip('\\n') + '\\n'\n",
      "  File \"c:\\Users\\zulfi\\anaconda3\\lib\\site-packages\\stack_data\\core.py\", line 360, in render\n",
      "    start_line, lines = self.frame_info._pygmented_scope_lines\n",
      "  File \"c:\\Users\\zulfi\\anaconda3\\lib\\site-packages\\stack_data\\utils.py\", line 145, in cached_property_wrapper\n",
      "    value = obj.__dict__[self.func.__name__] = self.func(obj)\n",
      "  File \"c:\\Users\\zulfi\\anaconda3\\lib\\site-packages\\stack_data\\core.py\", line 780, in _pygmented_scope_lines\n",
      "    lines = _pygmented_with_ranges(formatter, code, ranges)\n",
      "  File \"c:\\Users\\zulfi\\anaconda3\\lib\\site-packages\\stack_data\\utils.py\", line 155, in _pygmented_with_ranges\n",
      "    class MyLexer(type(get_lexer_by_name(\"python3\"))):\n",
      "  File \"c:\\Users\\zulfi\\anaconda3\\lib\\site-packages\\pygments\\lexers\\__init__.py\", line 113, in get_lexer_by_name\n",
      "    return _lexer_cache[name](**options)\n",
      "  File \"c:\\Users\\zulfi\\anaconda3\\lib\\site-packages\\pygments\\lexer.py\", line 577, in __call__\n",
      "    cls._tokens = cls.process_tokendef('', cls.get_tokendefs())\n",
      "  File \"c:\\Users\\zulfi\\anaconda3\\lib\\site-packages\\pygments\\lexer.py\", line 516, in process_tokendef\n",
      "    cls._process_state(tokendefs, processed, state)\n",
      "  File \"c:\\Users\\zulfi\\anaconda3\\lib\\site-packages\\pygments\\lexer.py\", line 479, in _process_state\n",
      "    tokens.extend(cls._process_state(unprocessed, processed,\n",
      "  File \"c:\\Users\\zulfi\\anaconda3\\lib\\site-packages\\pygments\\lexer.py\", line 479, in _process_state\n",
      "    tokens.extend(cls._process_state(unprocessed, processed,\n",
      "  File \"c:\\Users\\zulfi\\anaconda3\\lib\\site-packages\\pygments\\lexer.py\", line 497, in _process_state\n",
      "    raise ValueError(\"uncompilable regex %r in state %r of %r: %s\" %\n",
      "ValueError: uncompilable regex <pygments.lexer.words object at 0x000001E998390A90> in state 'builtins' of <class 'pygments.lexers.python.PythonLexer'>: maximum recursion depth exceeded while calling a Python object\n"
     ]
    }
   ],
   "source": [
    "import sys\n",
    "sys.setrecursionlimit(10)\n",
    "print(sys.getrecursionlimit())\n",
    "i=0\n",
    "def greet():\n",
    "    global i\n",
    "    i+=1\n",
    "    print(\"hello\",i)\n",
    "    greet()\n",
    "greet()\n"
   ]
  },
  {
   "cell_type": "code",
   "execution_count": 24,
   "id": "64133418",
   "metadata": {},
   "outputs": [
    {
     "name": "stdout",
     "output_type": "stream",
     "text": [
      "15\n"
     ]
    }
   ],
   "source": [
    "f=lambda a,b:a+b\n",
    "result=f(5,10)\n",
    "print(result)"
   ]
  },
  {
   "cell_type": "code",
   "execution_count": 26,
   "id": "0f05a42e",
   "metadata": {},
   "outputs": [
    {
     "name": "stdout",
     "output_type": "stream",
     "text": [
      "[4, 8, 12]\n"
     ]
    }
   ],
   "source": [
    "nums=[1,2,3,4,5,6,7]\n",
    "evens=list(filter(lambda n:n%2==0,nums))\n",
    "doubles=list(map(lambda n: n*2,evens))\n",
    "print(doubles)"
   ]
  },
  {
   "cell_type": "code",
   "execution_count": 28,
   "id": "e4c43a8f",
   "metadata": {},
   "outputs": [
    {
     "name": "stdout",
     "output_type": "stream",
     "text": [
      "2.0\n"
     ]
    }
   ],
   "source": [
    "def div(a,b):\n",
    "    print(a/b)\n",
    "def smart_div(func):\n",
    "    def inner(a,b):\n",
    "        if a<b:\n",
    "            a,b=b,a\n",
    "        return func(a,b)\n",
    "    return inner\n",
    "div=smart_div(div)\n",
    "div(2,4)"
   ]
  },
  {
   "cell_type": "code",
   "execution_count": 30,
   "id": "60653d3b",
   "metadata": {},
   "outputs": [
    {
     "name": "stdout",
     "output_type": "stream",
     "text": [
      "<class 'int'>\n",
      "<class 'str'>\n",
      "<class '__main__.converter'>\n"
     ]
    }
   ],
   "source": [
    "class converter:\n",
    "    def config(self):\n",
    "        print(\"i5,16gb,1tb\")\n",
    "x=5\n",
    "print(type(x))\n",
    "a='g'\n",
    "print(type(a))\n",
    "com1=converter()\n",
    "print(type(com1))"
   ]
  },
  {
   "cell_type": "code",
   "execution_count": 32,
   "id": "05406b92",
   "metadata": {},
   "outputs": [
    {
     "name": "stdout",
     "output_type": "stream",
     "text": [
      "i3,8gb,256gb\n",
      "i3,8gb,256gb\n",
      "i3,8gb,256gb\n",
      "i5,16gb,1tb\n"
     ]
    }
   ],
   "source": [
    "class computer:\n",
    "    def config(self):\n",
    "        print(\"i3,8gb,256gb\")\n",
    "com1=computer()\n",
    "com2=converter()\n",
    "computer.config(com1)\n",
    "computer.config(com2)\n",
    "com1.config()\n",
    "com2.config()"
   ]
  },
  {
   "cell_type": "code",
   "execution_count": 34,
   "id": "beda1610",
   "metadata": {},
   "outputs": [
    {
     "name": "stdout",
     "output_type": "stream",
     "text": [
      "santa\n",
      "25\n"
     ]
    }
   ],
   "source": [
    "class computer:\n",
    "    def init(self):\n",
    "        self.name=\"Sakib\"\n",
    "        self.age=19\n",
    "    def update(self):\n",
    "        self.age=25\n",
    "c1=computer()\n",
    "c2=computer()\n",
    "c1.name=\"santa\"\n",
    "c1.age=100\n",
    "c1.update()\n",
    "print(c1.name)\n",
    "print(c1.age)"
   ]
  },
  {
   "cell_type": "code",
   "execution_count": 36,
   "id": "55ee6e31",
   "metadata": {},
   "outputs": [
    {
     "name": "stdout",
     "output_type": "stream",
     "text": [
      "5\n"
     ]
    }
   ],
   "source": [
    "class car:\n",
    "    def init(self):\n",
    "        self.mil=14\n",
    "        self.com=\"Rolls Royce\"\n",
    "c1=car()\n",
    "c2=car()\n",
    "c1.mil=5\n",
    "print(c1.mil)"
   ]
  },
  {
   "cell_type": "code",
   "execution_count": 38,
   "id": "f3902bb7",
   "metadata": {},
   "outputs": [
    {
     "name": "stdout",
     "output_type": "stream",
     "text": [
      "feature 1 working\n",
      "feature 2 working\n"
     ]
    }
   ],
   "source": [
    "class A:\n",
    "    def feature1(self):\n",
    "        print(\"feature 1 working\")\n",
    "    def feature2(self):\n",
    "        print(\"feature 2 working\")\n",
    "class B(A):\n",
    "    def feature3(self):\n",
    "        print(\"feature 3 working\")\n",
    "    def feature4(self):\n",
    "        print(\"feature 4 working\")\n",
    "class c(B):\n",
    "     def feature5(self):\n",
    "        print(\"feature 5 working\")\n",
    "a1=A()\n",
    "a1.feature1()\n",
    "a1.feature2()"
   ]
  },
  {
   "cell_type": "code",
   "execution_count": 40,
   "id": "869a325e",
   "metadata": {},
   "outputs": [
    {
     "name": "stdout",
     "output_type": "stream",
     "text": [
      "feature 1 working\n"
     ]
    }
   ],
   "source": [
    "class A:\n",
    "    def init(self):\n",
    "        print('in A init')\n",
    "    def feature1(self):\n",
    "        print(\"feature 1 working\")\n",
    "    def feature2(self):\n",
    "        print(\"feature 2 working\")\n",
    "class B(A):\n",
    "    def init(self):\n",
    "        super().init()\n",
    "        print('in B init')\n",
    "    def feature3(self):\n",
    "        print(\"feature 3 working\")\n",
    "    def feature4(self):\n",
    "        print(\"feature 4 working\")\n",
    "\n",
    "a1=A()\n",
    "a1.feature1()"
   ]
  },
  {
   "cell_type": "code",
   "execution_count": 42,
   "id": "399172ad",
   "metadata": {},
   "outputs": [
    {
     "name": "stdout",
     "output_type": "stream",
     "text": [
      "Unexpected exception formatting exception. Falling back to standard exception\n"
     ]
    },
    {
     "name": "stderr",
     "output_type": "stream",
     "text": [
      "Traceback (most recent call last):\n",
      "  File \"c:\\Users\\zulfi\\anaconda3\\lib\\site-packages\\IPython\\core\\interactiveshell.py\", line 3460, in run_code\n",
      "    exec(code_obj, self.user_global_ns, self.user_ns)\n",
      "  File \"C:\\Users\\zulfi\\AppData\\Local\\Temp\\ipykernel_9264\\2897987690.py\", line 15, in <module>\n",
      "    print(s1.sum(5,9))\n",
      "  File \"C:\\Users\\zulfi\\AppData\\Local\\Temp\\ipykernel_9264\\2897987690.py\", line 8, in sum\n",
      "    s=a+b+c\n",
      "TypeError: unsupported operand type(s) for +: 'int' and 'NoneType'\n",
      "\n",
      "During handling of the above exception, another exception occurred:\n",
      "\n",
      "Traceback (most recent call last):\n",
      "  File \"c:\\Users\\zulfi\\anaconda3\\lib\\site-packages\\pygments\\lexer.py\", line 495, in _process_state\n",
      "    rex = cls._process_regex(tdef[0], rflags, state)\n",
      "  File \"c:\\Users\\zulfi\\anaconda3\\lib\\site-packages\\pygments\\lexer.py\", line 423, in _process_regex\n",
      "    regex = regex.get()\n",
      "  File \"c:\\Users\\zulfi\\anaconda3\\lib\\site-packages\\pygments\\lexer.py\", line 411, in get\n",
      "    return regex_opt(self.words, prefix=self.prefix, suffix=self.suffix)\n",
      "  File \"c:\\Users\\zulfi\\anaconda3\\lib\\site-packages\\pygments\\regexopt.py\", line 91, in regex_opt\n",
      "    return prefix + regex_opt_inner(strings, '(') + suffix\n",
      "  File \"c:\\Users\\zulfi\\anaconda3\\lib\\site-packages\\pygments\\regexopt.py\", line 77, in regex_opt_inner\n",
      "    '|'.join(regex_opt_inner(list(group[1]), '')\n",
      "  File \"c:\\Users\\zulfi\\anaconda3\\lib\\site-packages\\pygments\\regexopt.py\", line 77, in <genexpr>\n",
      "    '|'.join(regex_opt_inner(list(group[1]), '')\n",
      "  File \"c:\\Users\\zulfi\\anaconda3\\lib\\site-packages\\pygments\\regexopt.py\", line 77, in regex_opt_inner\n",
      "    '|'.join(regex_opt_inner(list(group[1]), '')\n",
      "  File \"c:\\Users\\zulfi\\anaconda3\\lib\\site-packages\\pygments\\regexopt.py\", line 77, in <genexpr>\n",
      "    '|'.join(regex_opt_inner(list(group[1]), '')\n",
      "  File \"c:\\Users\\zulfi\\anaconda3\\lib\\site-packages\\pygments\\regexopt.py\", line 77, in regex_opt_inner\n",
      "    '|'.join(regex_opt_inner(list(group[1]), '')\n",
      "  File \"c:\\Users\\zulfi\\anaconda3\\lib\\site-packages\\pygments\\regexopt.py\", line 77, in <genexpr>\n",
      "    '|'.join(regex_opt_inner(list(group[1]), '')\n",
      "  File \"c:\\Users\\zulfi\\anaconda3\\lib\\site-packages\\pygments\\regexopt.py\", line 77, in regex_opt_inner\n",
      "    '|'.join(regex_opt_inner(list(group[1]), '')\n",
      "  File \"c:\\Users\\zulfi\\anaconda3\\lib\\site-packages\\pygments\\regexopt.py\", line 77, in <genexpr>\n",
      "    '|'.join(regex_opt_inner(list(group[1]), '')\n",
      "  File \"c:\\Users\\zulfi\\anaconda3\\lib\\site-packages\\pygments\\regexopt.py\", line 77, in regex_opt_inner\n",
      "    '|'.join(regex_opt_inner(list(group[1]), '')\n",
      "  File \"c:\\Users\\zulfi\\anaconda3\\lib\\site-packages\\pygments\\regexopt.py\", line 77, in <genexpr>\n",
      "    '|'.join(regex_opt_inner(list(group[1]), '')\n",
      "  File \"c:\\Users\\zulfi\\anaconda3\\lib\\site-packages\\pygments\\regexopt.py\", line 77, in regex_opt_inner\n",
      "    '|'.join(regex_opt_inner(list(group[1]), '')\n",
      "  File \"c:\\Users\\zulfi\\anaconda3\\lib\\site-packages\\pygments\\regexopt.py\", line 77, in <genexpr>\n",
      "    '|'.join(regex_opt_inner(list(group[1]), '')\n",
      "  File \"c:\\Users\\zulfi\\anaconda3\\lib\\site-packages\\pygments\\regexopt.py\", line 77, in regex_opt_inner\n",
      "    '|'.join(regex_opt_inner(list(group[1]), '')\n",
      "  File \"c:\\Users\\zulfi\\anaconda3\\lib\\site-packages\\pygments\\regexopt.py\", line 77, in <genexpr>\n",
      "    '|'.join(regex_opt_inner(list(group[1]), '')\n",
      "  File \"c:\\Users\\zulfi\\anaconda3\\lib\\site-packages\\pygments\\regexopt.py\", line 77, in regex_opt_inner\n",
      "    '|'.join(regex_opt_inner(list(group[1]), '')\n",
      "  File \"c:\\Users\\zulfi\\anaconda3\\lib\\site-packages\\pygments\\regexopt.py\", line 77, in <genexpr>\n",
      "    '|'.join(regex_opt_inner(list(group[1]), '')\n",
      "  File \"c:\\Users\\zulfi\\anaconda3\\lib\\site-packages\\pygments\\regexopt.py\", line 77, in regex_opt_inner\n",
      "    '|'.join(regex_opt_inner(list(group[1]), '')\n",
      "  File \"c:\\Users\\zulfi\\anaconda3\\lib\\site-packages\\pygments\\regexopt.py\", line 77, in <genexpr>\n",
      "    '|'.join(regex_opt_inner(list(group[1]), '')\n",
      "  File \"c:\\Users\\zulfi\\anaconda3\\lib\\site-packages\\pygments\\regexopt.py\", line 77, in regex_opt_inner\n",
      "    '|'.join(regex_opt_inner(list(group[1]), '')\n",
      "  File \"c:\\Users\\zulfi\\anaconda3\\lib\\site-packages\\pygments\\regexopt.py\", line 77, in <genexpr>\n",
      "    '|'.join(regex_opt_inner(list(group[1]), '')\n",
      "  File \"c:\\Users\\zulfi\\anaconda3\\lib\\site-packages\\pygments\\regexopt.py\", line 77, in regex_opt_inner\n",
      "    '|'.join(regex_opt_inner(list(group[1]), '')\n",
      "  File \"c:\\Users\\zulfi\\anaconda3\\lib\\site-packages\\pygments\\regexopt.py\", line 77, in <genexpr>\n",
      "    '|'.join(regex_opt_inner(list(group[1]), '')\n",
      "  File \"c:\\Users\\zulfi\\anaconda3\\lib\\site-packages\\pygments\\regexopt.py\", line 77, in regex_opt_inner\n",
      "    '|'.join(regex_opt_inner(list(group[1]), '')\n",
      "  File \"c:\\Users\\zulfi\\anaconda3\\lib\\site-packages\\pygments\\regexopt.py\", line 77, in <genexpr>\n",
      "    '|'.join(regex_opt_inner(list(group[1]), '')\n",
      "  File \"c:\\Users\\zulfi\\anaconda3\\lib\\site-packages\\pygments\\regexopt.py\", line 77, in regex_opt_inner\n",
      "    '|'.join(regex_opt_inner(list(group[1]), '')\n",
      "  File \"c:\\Users\\zulfi\\anaconda3\\lib\\site-packages\\pygments\\regexopt.py\", line 77, in <genexpr>\n",
      "    '|'.join(regex_opt_inner(list(group[1]), '')\n",
      "  File \"c:\\Users\\zulfi\\anaconda3\\lib\\site-packages\\pygments\\regexopt.py\", line 77, in regex_opt_inner\n",
      "    '|'.join(regex_opt_inner(list(group[1]), '')\n",
      "  File \"c:\\Users\\zulfi\\anaconda3\\lib\\site-packages\\pygments\\regexopt.py\", line 77, in <genexpr>\n",
      "    '|'.join(regex_opt_inner(list(group[1]), '')\n",
      "  File \"c:\\Users\\zulfi\\anaconda3\\lib\\site-packages\\pygments\\regexopt.py\", line 63, in regex_opt_inner\n",
      "    + regex_opt_inner([s[plen:] for s in strings], '(?:') \\\n",
      "  File \"c:\\Users\\zulfi\\anaconda3\\lib\\site-packages\\pygments\\regexopt.py\", line 77, in regex_opt_inner\n",
      "    '|'.join(regex_opt_inner(list(group[1]), '')\n",
      "  File \"c:\\Users\\zulfi\\anaconda3\\lib\\site-packages\\pygments\\regexopt.py\", line 77, in <genexpr>\n",
      "    '|'.join(regex_opt_inner(list(group[1]), '')\n",
      "  File \"c:\\Users\\zulfi\\anaconda3\\lib\\site-packages\\pygments\\regexopt.py\", line 77, in regex_opt_inner\n",
      "    '|'.join(regex_opt_inner(list(group[1]), '')\n",
      "  File \"c:\\Users\\zulfi\\anaconda3\\lib\\site-packages\\pygments\\regexopt.py\", line 77, in <genexpr>\n",
      "    '|'.join(regex_opt_inner(list(group[1]), '')\n",
      "  File \"c:\\Users\\zulfi\\anaconda3\\lib\\site-packages\\pygments\\regexopt.py\", line 77, in regex_opt_inner\n",
      "    '|'.join(regex_opt_inner(list(group[1]), '')\n",
      "  File \"c:\\Users\\zulfi\\anaconda3\\lib\\site-packages\\pygments\\regexopt.py\", line 77, in <genexpr>\n",
      "    '|'.join(regex_opt_inner(list(group[1]), '')\n",
      "  File \"c:\\Users\\zulfi\\anaconda3\\lib\\site-packages\\pygments\\regexopt.py\", line 36, in regex_opt_inner\n",
      "    return open_paren + escape(first) + close_paren\n",
      "  File \"c:\\Users\\zulfi\\anaconda3\\lib\\re.py\", line 273, in escape\n",
      "    if isinstance(pattern, str):\n",
      "RecursionError: maximum recursion depth exceeded while calling a Python object\n",
      "\n",
      "The above exception was the direct cause of the following exception:\n",
      "\n",
      "Traceback (most recent call last):\n",
      "  File \"c:\\Users\\zulfi\\anaconda3\\lib\\site-packages\\IPython\\core\\interactiveshell.py\", line 2057, in showtraceback\n",
      "    stb = self.InteractiveTB.structured_traceback(\n",
      "  File \"c:\\Users\\zulfi\\anaconda3\\lib\\site-packages\\IPython\\core\\ultratb.py\", line 1118, in structured_traceback\n",
      "    return FormattedTB.structured_traceback(\n",
      "  File \"c:\\Users\\zulfi\\anaconda3\\lib\\site-packages\\IPython\\core\\ultratb.py\", line 1012, in structured_traceback\n",
      "    return VerboseTB.structured_traceback(\n",
      "  File \"c:\\Users\\zulfi\\anaconda3\\lib\\site-packages\\IPython\\core\\ultratb.py\", line 865, in structured_traceback\n",
      "    formatted_exception = self.format_exception_as_a_whole(etype, evalue, etb, number_of_lines_of_context,\n",
      "  File \"c:\\Users\\zulfi\\anaconda3\\lib\\site-packages\\IPython\\core\\ultratb.py\", line 818, in format_exception_as_a_whole\n",
      "    frames.append(self.format_record(r))\n",
      "  File \"c:\\Users\\zulfi\\anaconda3\\lib\\site-packages\\IPython\\core\\ultratb.py\", line 736, in format_record\n",
      "    result += ''.join(_format_traceback_lines(frame_info.lines, Colors, self.has_colors, lvals))\n",
      "  File \"c:\\Users\\zulfi\\anaconda3\\lib\\site-packages\\IPython\\core\\ultratb.py\", line 155, in _format_traceback_lines\n",
      "    line = stack_line.render(pygmented=has_colors).rstrip('\\n') + '\\n'\n",
      "  File \"c:\\Users\\zulfi\\anaconda3\\lib\\site-packages\\stack_data\\core.py\", line 360, in render\n",
      "    start_line, lines = self.frame_info._pygmented_scope_lines\n",
      "  File \"c:\\Users\\zulfi\\anaconda3\\lib\\site-packages\\stack_data\\utils.py\", line 145, in cached_property_wrapper\n",
      "    value = obj.__dict__[self.func.__name__] = self.func(obj)\n",
      "  File \"c:\\Users\\zulfi\\anaconda3\\lib\\site-packages\\stack_data\\core.py\", line 780, in _pygmented_scope_lines\n",
      "    lines = _pygmented_with_ranges(formatter, code, ranges)\n",
      "  File \"c:\\Users\\zulfi\\anaconda3\\lib\\site-packages\\stack_data\\utils.py\", line 155, in _pygmented_with_ranges\n",
      "    class MyLexer(type(get_lexer_by_name(\"python3\"))):\n",
      "  File \"c:\\Users\\zulfi\\anaconda3\\lib\\site-packages\\pygments\\lexers\\__init__.py\", line 113, in get_lexer_by_name\n",
      "    return _lexer_cache[name](**options)\n",
      "  File \"c:\\Users\\zulfi\\anaconda3\\lib\\site-packages\\pygments\\lexer.py\", line 577, in __call__\n",
      "    cls._tokens = cls.process_tokendef('', cls.get_tokendefs())\n",
      "  File \"c:\\Users\\zulfi\\anaconda3\\lib\\site-packages\\pygments\\lexer.py\", line 516, in process_tokendef\n",
      "    cls._process_state(tokendefs, processed, state)\n",
      "  File \"c:\\Users\\zulfi\\anaconda3\\lib\\site-packages\\pygments\\lexer.py\", line 479, in _process_state\n",
      "    tokens.extend(cls._process_state(unprocessed, processed,\n",
      "  File \"c:\\Users\\zulfi\\anaconda3\\lib\\site-packages\\pygments\\lexer.py\", line 479, in _process_state\n",
      "    tokens.extend(cls._process_state(unprocessed, processed,\n",
      "  File \"c:\\Users\\zulfi\\anaconda3\\lib\\site-packages\\pygments\\lexer.py\", line 497, in _process_state\n",
      "    raise ValueError(\"uncompilable regex %r in state %r of %r: %s\" %\n",
      "ValueError: uncompilable regex <pygments.lexer.words object at 0x000001E998390A90> in state 'builtins' of <class 'pygments.lexers.python.PythonLexer'>: maximum recursion depth exceeded while calling a Python object\n"
     ]
    }
   ],
   "source": [
    "class Student:\n",
    "    def init(self,m1,m2):\n",
    "        self.m1=m1\n",
    "        self.m2=m2\n",
    "    def sum(self,a=None,b=None,c=None):\n",
    "        s=0\n",
    "        if a!=None or b!=None or c!=None:\n",
    "            s=a+b+c\n",
    "        elif a!=None or b!=None:\n",
    "            s=a+b\n",
    "        else: \n",
    "            s=a\n",
    "        return s\n",
    "s1=Student()\n",
    "print(s1.sum(5,9))"
   ]
  },
  {
   "cell_type": "code",
   "execution_count": 44,
   "id": "f768009c",
   "metadata": {},
   "outputs": [
    {
     "name": "stdout",
     "output_type": "stream",
     "text": [
      "14\n"
     ]
    }
   ],
   "source": [
    "class Student:\n",
    "    def init(self,m1,m2):\n",
    "        self.m1=m1\n",
    "        self.m2=m2\n",
    "    def sum(self,a=None,b=None,c=None):\n",
    "        s=0\n",
    "        if a!=None and b!=None and c!=None:\n",
    "            s=a+b+c\n",
    "        elif a!=None and b!=None:\n",
    "            s=a+b\n",
    "        else: \n",
    "            s=a\n",
    "        return s\n",
    "s1=Student()\n",
    "print(s1.sum(5,9))"
   ]
  },
  {
   "cell_type": "code",
   "execution_count": 46,
   "id": "ac23432f",
   "metadata": {},
   "outputs": [
    {
     "name": "stdout",
     "output_type": "stream",
     "text": [
      "show B\n"
     ]
    }
   ],
   "source": [
    "class A:\n",
    "    def show(self):\n",
    "        print(\"show A\")\n",
    "class B(A):\n",
    "    def show(self):\n",
    "        print(\"show B\")\n",
    "a1=B()\n",
    "a1.show()"
   ]
  },
  {
   "cell_type": "code",
   "execution_count": 48,
   "id": "1e19039b",
   "metadata": {},
   "outputs": [
    {
     "name": "stdout",
     "output_type": "stream",
     "text": [
      "cannot divide by zero division by zero\n",
      "resource closed\n"
     ]
    }
   ],
   "source": [
    "a=10\n",
    "b=0\n",
    "try:\n",
    "    print(a/b)\n",
    "except Exception as e:\n",
    "    print('cannot divide by zero',e)\n",
    "finally:\n",
    "    print('resource closed')"
   ]
  },
  {
   "cell_type": "code",
   "execution_count": 50,
   "id": "3394932e",
   "metadata": {},
   "outputs": [
    {
     "name": "stdout",
     "output_type": "stream",
     "text": [
      "10.0\n",
      "resource closed\n"
     ]
    }
   ],
   "source": [
    "a=20\n",
    "b=2\n",
    "try:\n",
    "    print(a/b)\n",
    "except Exception as e:\n",
    "    print('cannot divide by zero',e)\n",
    "finally:\n",
    "    print('resource closed')"
   ]
  },
  {
   "cell_type": "code",
   "execution_count": 51,
   "id": "7f1d9e4f",
   "metadata": {},
   "outputs": [
    {
     "name": "stdout",
     "output_type": "stream",
     "text": [
      "Sakib\n",
      "Ahamed\n"
     ]
    },
    {
     "name": "stdout",
     "output_type": "stream",
     "text": [
      "Sakib\n",
      "Ahamed\n",
      "Sakib\n",
      "Ahamed\n",
      "Sakib\n",
      "Ahamed\n",
      "Sakib\n",
      "Ahamed\n"
     ]
    }
   ],
   "source": [
    "from time import sleep\n",
    "from threading import *\n",
    "class Hello(Thread):\n",
    "    def run(self):\n",
    "        for i in range(5):\n",
    "            print(\"Sakib\")\n",
    "            sleep(1)\n",
    "class Hii(Thread):\n",
    "    def run(self):\n",
    "        for i in range(5):\n",
    "            print('Ahamed')\n",
    "            sleep(1)\n",
    "t1=Hello()\n",
    "t2=Hii()\n",
    "t1.start()\n",
    "sleep(0.2)\n",
    "t2.start()"
   ]
  }
 ],
 "metadata": {
  "kernelspec": {
   "display_name": "Python 3 (ipykernel)",
   "language": "python",
   "name": "python3"
  },
  "language_info": {
   "codemirror_mode": {
    "name": "ipython",
    "version": 3
   },
   "file_extension": ".py",
   "mimetype": "text/x-python",
   "name": "python",
   "nbconvert_exporter": "python",
   "pygments_lexer": "ipython3",
   "version": "3.10.9"
  }
 },
 "nbformat": 4,
 "nbformat_minor": 5
}
